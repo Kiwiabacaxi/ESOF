{
 "cells": [
  {
   "cell_type": "code",
   "execution_count": 8,
   "metadata": {},
   "outputs": [
    {
     "name": "stdout",
     "output_type": "stream",
     "text": [
      "True\n"
     ]
    }
   ],
   "source": [
    "a = \"roma\"\n",
    "b = \"amor\"\n",
    "\n",
    "print(''.join(sorted(a)) == ''.join(sorted(b)))"
   ]
  },
  {
   "cell_type": "code",
   "execution_count": 9,
   "metadata": {},
   "outputs": [
    {
     "name": "stdout",
     "output_type": "stream",
     "text": [
      "True\n",
      "False\n",
      "True\n"
     ]
    }
   ],
   "source": [
    "def sao_anagramas(str1, str2):\n",
    "    # Remove espaços e converte para minúsculas\n",
    "    str1 = str1.replace(\" \", \"\").lower()\n",
    "    str2 = str2.replace(\" \", \"\").lower()\n",
    "    \n",
    "    # Verifica se os comprimentos são iguais\n",
    "    if len(str1) != len(str2):\n",
    "        return False\n",
    "    \n",
    "    # Compara as strings ordenadas\n",
    "    return sorted(str1) == sorted(str2)\n",
    "\n",
    "# Teste da função\n",
    "print(sao_anagramas(\"roma\", \"amor\"))  # Deve retornar True\n",
    "print(sao_anagramas(\"hello\", \"world\"))  # Deve retornar False\n",
    "print(sao_anagramas(\"Anagrama\", \"A grama na\"))  # Deve retornar True"
   ]
  },
  {
   "cell_type": "code",
   "execution_count": null,
   "metadata": {},
   "outputs": [],
   "source": [
    "\n",
    "\n"
   ]
  }
 ],
 "metadata": {
  "kernelspec": {
   "display_name": ".venv",
   "language": "python",
   "name": "python3"
  },
  "language_info": {
   "codemirror_mode": {
    "name": "ipython",
    "version": 3
   },
   "file_extension": ".py",
   "mimetype": "text/x-python",
   "name": "python",
   "nbconvert_exporter": "python",
   "pygments_lexer": "ipython3",
   "version": "3.12.1"
  }
 },
 "nbformat": 4,
 "nbformat_minor": 2
}
